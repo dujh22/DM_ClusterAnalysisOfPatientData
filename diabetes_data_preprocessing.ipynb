{
 "cells": [
  {
   "attachments": {},
   "cell_type": "markdown",
   "metadata": {},
   "source": [
    "# 数据预处理"
   ]
  },
  {
   "cell_type": "code",
   "execution_count": 1,
   "metadata": {},
   "outputs": [
    {
     "ename": "ModuleNotFoundError",
     "evalue": "No module named 'pandas'",
     "output_type": "error",
     "traceback": [
      "\u001B[1;31m---------------------------------------------------------------------------\u001B[0m",
      "\u001B[1;31mModuleNotFoundError\u001B[0m                       Traceback (most recent call last)",
      "Cell \u001B[1;32mIn[1], line 1\u001B[0m\n\u001B[1;32m----> 1\u001B[0m \u001B[38;5;28;01mimport\u001B[39;00m \u001B[38;5;21;01mpandas\u001B[39;00m \u001B[38;5;28;01mas\u001B[39;00m \u001B[38;5;21;01mpd\u001B[39;00m\n\u001B[0;32m      2\u001B[0m \u001B[38;5;28;01mimport\u001B[39;00m \u001B[38;5;21;01mnumpy\u001B[39;00m \u001B[38;5;28;01mas\u001B[39;00m \u001B[38;5;21;01mnp\u001B[39;00m\n\u001B[0;32m      3\u001B[0m \u001B[38;5;28;01mfrom\u001B[39;00m \u001B[38;5;21;01msklearn\u001B[39;00m \u001B[38;5;28;01mimport\u001B[39;00m preprocessing\n",
      "\u001B[1;31mModuleNotFoundError\u001B[0m: No module named 'pandas'"
     ]
    }
   ],
   "source": [
    "import pandas as pd\n",
    "import numpy as np\n",
    "from sklearn import preprocessing\n",
    "import matplotlib.pyplot as plt\n",
    "from collections import Counter\n",
    "# import matplotlib\n",
    "\n",
    "df = pd.read_csv('.\\dataset_diabetes\\diabetic_data.csv')\n",
    "# hist识别哪些列为数值属性\n",
    "# df.hist()\n",
    "\n",
    "# 分离数值属性与名义属性\n",
    "num_columns = ['encounter_id', 'patient_nbr', 'admission_type_id', 'discharge_disposition_id', 'admission_source_id', 'time_in_hospital', 'num_lab_procedures', 'num_procedures', 'num_medications','number_outpatient', 'number_emergency', 'number_inpatient', 'number_diagnoses']\n",
    "allcolumns = df.columns.values.tolist()\n",
    "nor_columns = list(set(allcolumns)-set(num_columns))\n",
    "\n",
    "# 仅保留病人第一次入院数据\n",
    "df = df.sort_values(by=['encounter_id'],ascending=True)\n",
    "df = df.drop_duplicates(subset=['patient_nbr'])\n",
    "\n",
    "# 删去死亡与转到临终关怀医院的数据\n",
    "expired = {11,13,14,19,20,21}  # 死亡或转至临终关怀医院对应的discharge_disposition_id\n",
    "dropID = []\n",
    "for value in df.index.values:\n",
    "    if df.loc[value,'discharge_disposition_id'] in expired:\n",
    "        dropID.append(value)\n",
    "df = df.drop(dropID)      # 去除死亡或转至临终关怀医院的病人\n",
    "\n",
    "# 去除某属性占比较高的特征\n",
    "dropColumn = ['weight','payer_code','readmitted']\n",
    "for column in df.columns.values:\n",
    "    count = Counter(df.loc[:,column])\n",
    "    ratio = count.most_common()[0][1] / sum(count.values())\n",
    "    if ratio >= 0.9 and not column in dropColumn:    # 单个属性占比90%时删除\n",
    "        dropColumn.append(column)\n",
    "df = df.drop(dropColumn,axis=1)\n",
    "# 更新删除特征后的名义属性与数值属性\n",
    "num_columns = list(set(num_columns)-set(dropColumn))\n",
    "allcolumns = df.columns.values.tolist()\n",
    "nor_columns = list(set(allcolumns)-set(num_columns))\n",
    "\n",
    "# labelencoder将名义属性转为数值\n",
    "enc = preprocessing.LabelEncoder()\n",
    "for column in nor_columns:\n",
    "    df.loc[:,column]=enc.fit_transform(df.loc[:,column])\n",
    "\n",
    "# 数据归一化\n",
    "# scaler = preprocessing.MinMaxScaler()\n",
    "# df = scaler.fit_transform(df)   # 数据类型变为ndarray，不会画图了。。\n",
    "for column in allcolumns:   # 保持数据类型为dataframe方便后面用.plot画图。。\n",
    "    if df.loc[:,column].min()==df.loc[:,column].max():  #避免单值属性计算出bug\n",
    "        df.loc[:,column] = 0\n",
    "    else:\n",
    "        df.loc[:,column] = (df.loc[:,column]-df.loc[:,column].min())/(df.loc[:,column].max()-df.loc[:,column].min())\n",
    "\n",
    "# 直方图看数据分布情况\n",
    "fig,axes = plt.subplots(10,5,constrained_layout = True,figsize=(5*5,10*4))\n",
    "df.plot(kind='hist',ax=np.reshape(axes,50)[0:len(allcolumns)],bins=20, subplots=True, title='Histplots')\n",
    "for i in range(len(allcolumns),50):    # 去除空子图\n",
    "    fig.delaxes(axes.flatten()[i])"
   ]
  },
  {
   "cell_type": "code",
   "execution_count": null,
   "metadata": {},
   "outputs": [],
   "source": []
  }
 ],
 "metadata": {
  "kernelspec": {
   "display_name": "Python 3",
   "language": "python",
   "name": "python3"
  },
  "language_info": {
   "codemirror_mode": {
    "name": "ipython",
    "version": 3
   },
   "file_extension": ".py",
   "mimetype": "text/x-python",
   "name": "python",
   "nbconvert_exporter": "python",
   "pygments_lexer": "ipython3",
   "version": "3.10.8"
  },
  "orig_nbformat": 4,
  "vscode": {
   "interpreter": {
    "hash": "301a17a29b57d3836b7901af1621afd6d2b1f2298b9c7949191147cf2fea93e3"
   }
  }
 },
 "nbformat": 4,
 "nbformat_minor": 2
}
