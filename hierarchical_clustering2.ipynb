{
 "cells": [
  {
   "cell_type": "code",
   "execution_count": 1,
   "metadata": {},
   "outputs": [],
   "source": [
    "import pandas as pd\n",
    "import math as mt\n",
    "import numpy as np\n",
    "import sys"
   ]
  },
  {
   "cell_type": "markdown",
   "metadata": {},
   "source": [
    "# 1.数据预处理"
   ]
  },
  {
   "cell_type": "code",
   "execution_count": 2,
   "metadata": {},
   "outputs": [
    {
     "data": {
      "text/plain": "   encounter_id  patient_nbr             race  gender      age weight  \\\n0       2278392      8222157        Caucasian  Female   [0-10)      ?   \n1        149190     55629189        Caucasian  Female  [10-20)      ?   \n2         64410     86047875  AfricanAmerican  Female  [20-30)      ?   \n3        500364     82442376        Caucasian    Male  [30-40)      ?   \n4         16680     42519267        Caucasian    Male  [40-50)      ?   \n\n   admission_type_id  discharge_disposition_id  admission_source_id  \\\n0                  6                        25                    1   \n1                  1                         1                    7   \n2                  1                         1                    7   \n3                  1                         1                    7   \n4                  1                         1                    7   \n\n   time_in_hospital  ... citoglipton insulin  glyburide-metformin  \\\n0                 1  ...          No      No                   No   \n1                 3  ...          No      Up                   No   \n2                 2  ...          No      No                   No   \n3                 2  ...          No      Up                   No   \n4                 1  ...          No  Steady                   No   \n\n   glipizide-metformin  glimepiride-pioglitazone  metformin-rosiglitazone  \\\n0                   No                        No                       No   \n1                   No                        No                       No   \n2                   No                        No                       No   \n3                   No                        No                       No   \n4                   No                        No                       No   \n\n   metformin-pioglitazone  change diabetesMed readmitted  \n0                      No      No          No         NO  \n1                      No      Ch         Yes        >30  \n2                      No      No         Yes         NO  \n3                      No      Ch         Yes         NO  \n4                      No      Ch         Yes         NO  \n\n[5 rows x 50 columns]",
      "text/html": "<div>\n<style scoped>\n    .dataframe tbody tr th:only-of-type {\n        vertical-align: middle;\n    }\n\n    .dataframe tbody tr th {\n        vertical-align: top;\n    }\n\n    .dataframe thead th {\n        text-align: right;\n    }\n</style>\n<table border=\"1\" class=\"dataframe\">\n  <thead>\n    <tr style=\"text-align: right;\">\n      <th></th>\n      <th>encounter_id</th>\n      <th>patient_nbr</th>\n      <th>race</th>\n      <th>gender</th>\n      <th>age</th>\n      <th>weight</th>\n      <th>admission_type_id</th>\n      <th>discharge_disposition_id</th>\n      <th>admission_source_id</th>\n      <th>time_in_hospital</th>\n      <th>...</th>\n      <th>citoglipton</th>\n      <th>insulin</th>\n      <th>glyburide-metformin</th>\n      <th>glipizide-metformin</th>\n      <th>glimepiride-pioglitazone</th>\n      <th>metformin-rosiglitazone</th>\n      <th>metformin-pioglitazone</th>\n      <th>change</th>\n      <th>diabetesMed</th>\n      <th>readmitted</th>\n    </tr>\n  </thead>\n  <tbody>\n    <tr>\n      <th>0</th>\n      <td>2278392</td>\n      <td>8222157</td>\n      <td>Caucasian</td>\n      <td>Female</td>\n      <td>[0-10)</td>\n      <td>?</td>\n      <td>6</td>\n      <td>25</td>\n      <td>1</td>\n      <td>1</td>\n      <td>...</td>\n      <td>No</td>\n      <td>No</td>\n      <td>No</td>\n      <td>No</td>\n      <td>No</td>\n      <td>No</td>\n      <td>No</td>\n      <td>No</td>\n      <td>No</td>\n      <td>NO</td>\n    </tr>\n    <tr>\n      <th>1</th>\n      <td>149190</td>\n      <td>55629189</td>\n      <td>Caucasian</td>\n      <td>Female</td>\n      <td>[10-20)</td>\n      <td>?</td>\n      <td>1</td>\n      <td>1</td>\n      <td>7</td>\n      <td>3</td>\n      <td>...</td>\n      <td>No</td>\n      <td>Up</td>\n      <td>No</td>\n      <td>No</td>\n      <td>No</td>\n      <td>No</td>\n      <td>No</td>\n      <td>Ch</td>\n      <td>Yes</td>\n      <td>&gt;30</td>\n    </tr>\n    <tr>\n      <th>2</th>\n      <td>64410</td>\n      <td>86047875</td>\n      <td>AfricanAmerican</td>\n      <td>Female</td>\n      <td>[20-30)</td>\n      <td>?</td>\n      <td>1</td>\n      <td>1</td>\n      <td>7</td>\n      <td>2</td>\n      <td>...</td>\n      <td>No</td>\n      <td>No</td>\n      <td>No</td>\n      <td>No</td>\n      <td>No</td>\n      <td>No</td>\n      <td>No</td>\n      <td>No</td>\n      <td>Yes</td>\n      <td>NO</td>\n    </tr>\n    <tr>\n      <th>3</th>\n      <td>500364</td>\n      <td>82442376</td>\n      <td>Caucasian</td>\n      <td>Male</td>\n      <td>[30-40)</td>\n      <td>?</td>\n      <td>1</td>\n      <td>1</td>\n      <td>7</td>\n      <td>2</td>\n      <td>...</td>\n      <td>No</td>\n      <td>Up</td>\n      <td>No</td>\n      <td>No</td>\n      <td>No</td>\n      <td>No</td>\n      <td>No</td>\n      <td>Ch</td>\n      <td>Yes</td>\n      <td>NO</td>\n    </tr>\n    <tr>\n      <th>4</th>\n      <td>16680</td>\n      <td>42519267</td>\n      <td>Caucasian</td>\n      <td>Male</td>\n      <td>[40-50)</td>\n      <td>?</td>\n      <td>1</td>\n      <td>1</td>\n      <td>7</td>\n      <td>1</td>\n      <td>...</td>\n      <td>No</td>\n      <td>Steady</td>\n      <td>No</td>\n      <td>No</td>\n      <td>No</td>\n      <td>No</td>\n      <td>No</td>\n      <td>Ch</td>\n      <td>Yes</td>\n      <td>NO</td>\n    </tr>\n  </tbody>\n</table>\n<p>5 rows × 50 columns</p>\n</div>"
     },
     "execution_count": 2,
     "metadata": {},
     "output_type": "execute_result"
    }
   ],
   "source": [
    "df = pd.read_csv('.\\dataset_diabetes\\diabetic_data.csv')\n",
    "df.head()"
   ]
  },
  {
   "cell_type": "code",
   "execution_count": 3,
   "metadata": {},
   "outputs": [
    {
     "data": {
      "text/plain": "       encounter_id  patient_nbr             race  gender       age weight  \\\n0             12522     48330783        Caucasian  Female   [80-90)      ?   \n1             15738     63555939        Caucasian  Female  [90-100)      ?   \n2             16680     42519267        Caucasian    Male   [40-50)      ?   \n3             28236     89869032  AfricanAmerican  Female   [40-50)      ?   \n4             35754     82637451        Caucasian    Male   [50-60)      ?   \n...             ...          ...              ...     ...       ...    ...   \n71513     443842016    183087545        Caucasian  Female   [70-80)      ?   \n71514     443842022    188574944            Other  Female   [40-50)      ?   \n71515     443842070    140199494            Other  Female   [60-70)      ?   \n71516     443842340    120975314        Caucasian  Female   [80-90)      ?   \n71517     443867222    175429310        Caucasian    Male   [70-80)      ?   \n\n       admission_type_id  discharge_disposition_id  admission_source_id  \\\n0                      2                         1                    4   \n1                      3                         3                    4   \n2                      1                         1                    7   \n3                      1                         1                    7   \n4                      2                         1                    2   \n...                  ...                       ...                  ...   \n71513                  1                         1                    7   \n71514                  1                         1                    7   \n71515                  1                         1                    7   \n71516                  1                         1                    7   \n71517                  1                         1                    7   \n\n       time_in_hospital  ... citoglipton insulin  glyburide-metformin  \\\n0                    13  ...          No  Steady                   No   \n1                    12  ...          No  Steady                   No   \n2                     1  ...          No  Steady                   No   \n3                     9  ...          No  Steady                   No   \n4                     3  ...          No  Steady                   No   \n...                 ...  ...         ...     ...                  ...   \n71513                 9  ...          No  Steady                   No   \n71514                14  ...          No      Up                   No   \n71515                 2  ...          No  Steady                   No   \n71516                 5  ...          No      Up                   No   \n71517                 6  ...          No      No                   No   \n\n       glipizide-metformin  glimepiride-pioglitazone  metformin-rosiglitazone  \\\n0                       No                        No                       No   \n1                       No                        No                       No   \n2                       No                        No                       No   \n3                       No                        No                       No   \n4                       No                        No                       No   \n...                    ...                       ...                      ...   \n71513                   No                        No                       No   \n71514                   No                        No                       No   \n71515                   No                        No                       No   \n71516                   No                        No                       No   \n71517                   No                        No                       No   \n\n       metformin-pioglitazone  change diabetesMed readmitted  \n0                          No      Ch         Yes         NO  \n1                          No      Ch         Yes         NO  \n2                          No      Ch         Yes         NO  \n3                          No      No         Yes        >30  \n4                          No      No         Yes        >30  \n...                       ...     ...         ...        ...  \n71513                      No      Ch         Yes        >30  \n71514                      No      Ch         Yes        >30  \n71515                      No      No         Yes        >30  \n71516                      No      Ch         Yes         NO  \n71517                      No      No          No         NO  \n\n[71518 rows x 50 columns]",
      "text/html": "<div>\n<style scoped>\n    .dataframe tbody tr th:only-of-type {\n        vertical-align: middle;\n    }\n\n    .dataframe tbody tr th {\n        vertical-align: top;\n    }\n\n    .dataframe thead th {\n        text-align: right;\n    }\n</style>\n<table border=\"1\" class=\"dataframe\">\n  <thead>\n    <tr style=\"text-align: right;\">\n      <th></th>\n      <th>encounter_id</th>\n      <th>patient_nbr</th>\n      <th>race</th>\n      <th>gender</th>\n      <th>age</th>\n      <th>weight</th>\n      <th>admission_type_id</th>\n      <th>discharge_disposition_id</th>\n      <th>admission_source_id</th>\n      <th>time_in_hospital</th>\n      <th>...</th>\n      <th>citoglipton</th>\n      <th>insulin</th>\n      <th>glyburide-metformin</th>\n      <th>glipizide-metformin</th>\n      <th>glimepiride-pioglitazone</th>\n      <th>metformin-rosiglitazone</th>\n      <th>metformin-pioglitazone</th>\n      <th>change</th>\n      <th>diabetesMed</th>\n      <th>readmitted</th>\n    </tr>\n  </thead>\n  <tbody>\n    <tr>\n      <th>0</th>\n      <td>12522</td>\n      <td>48330783</td>\n      <td>Caucasian</td>\n      <td>Female</td>\n      <td>[80-90)</td>\n      <td>?</td>\n      <td>2</td>\n      <td>1</td>\n      <td>4</td>\n      <td>13</td>\n      <td>...</td>\n      <td>No</td>\n      <td>Steady</td>\n      <td>No</td>\n      <td>No</td>\n      <td>No</td>\n      <td>No</td>\n      <td>No</td>\n      <td>Ch</td>\n      <td>Yes</td>\n      <td>NO</td>\n    </tr>\n    <tr>\n      <th>1</th>\n      <td>15738</td>\n      <td>63555939</td>\n      <td>Caucasian</td>\n      <td>Female</td>\n      <td>[90-100)</td>\n      <td>?</td>\n      <td>3</td>\n      <td>3</td>\n      <td>4</td>\n      <td>12</td>\n      <td>...</td>\n      <td>No</td>\n      <td>Steady</td>\n      <td>No</td>\n      <td>No</td>\n      <td>No</td>\n      <td>No</td>\n      <td>No</td>\n      <td>Ch</td>\n      <td>Yes</td>\n      <td>NO</td>\n    </tr>\n    <tr>\n      <th>2</th>\n      <td>16680</td>\n      <td>42519267</td>\n      <td>Caucasian</td>\n      <td>Male</td>\n      <td>[40-50)</td>\n      <td>?</td>\n      <td>1</td>\n      <td>1</td>\n      <td>7</td>\n      <td>1</td>\n      <td>...</td>\n      <td>No</td>\n      <td>Steady</td>\n      <td>No</td>\n      <td>No</td>\n      <td>No</td>\n      <td>No</td>\n      <td>No</td>\n      <td>Ch</td>\n      <td>Yes</td>\n      <td>NO</td>\n    </tr>\n    <tr>\n      <th>3</th>\n      <td>28236</td>\n      <td>89869032</td>\n      <td>AfricanAmerican</td>\n      <td>Female</td>\n      <td>[40-50)</td>\n      <td>?</td>\n      <td>1</td>\n      <td>1</td>\n      <td>7</td>\n      <td>9</td>\n      <td>...</td>\n      <td>No</td>\n      <td>Steady</td>\n      <td>No</td>\n      <td>No</td>\n      <td>No</td>\n      <td>No</td>\n      <td>No</td>\n      <td>No</td>\n      <td>Yes</td>\n      <td>&gt;30</td>\n    </tr>\n    <tr>\n      <th>4</th>\n      <td>35754</td>\n      <td>82637451</td>\n      <td>Caucasian</td>\n      <td>Male</td>\n      <td>[50-60)</td>\n      <td>?</td>\n      <td>2</td>\n      <td>1</td>\n      <td>2</td>\n      <td>3</td>\n      <td>...</td>\n      <td>No</td>\n      <td>Steady</td>\n      <td>No</td>\n      <td>No</td>\n      <td>No</td>\n      <td>No</td>\n      <td>No</td>\n      <td>No</td>\n      <td>Yes</td>\n      <td>&gt;30</td>\n    </tr>\n    <tr>\n      <th>...</th>\n      <td>...</td>\n      <td>...</td>\n      <td>...</td>\n      <td>...</td>\n      <td>...</td>\n      <td>...</td>\n      <td>...</td>\n      <td>...</td>\n      <td>...</td>\n      <td>...</td>\n      <td>...</td>\n      <td>...</td>\n      <td>...</td>\n      <td>...</td>\n      <td>...</td>\n      <td>...</td>\n      <td>...</td>\n      <td>...</td>\n      <td>...</td>\n      <td>...</td>\n      <td>...</td>\n    </tr>\n    <tr>\n      <th>71513</th>\n      <td>443842016</td>\n      <td>183087545</td>\n      <td>Caucasian</td>\n      <td>Female</td>\n      <td>[70-80)</td>\n      <td>?</td>\n      <td>1</td>\n      <td>1</td>\n      <td>7</td>\n      <td>9</td>\n      <td>...</td>\n      <td>No</td>\n      <td>Steady</td>\n      <td>No</td>\n      <td>No</td>\n      <td>No</td>\n      <td>No</td>\n      <td>No</td>\n      <td>Ch</td>\n      <td>Yes</td>\n      <td>&gt;30</td>\n    </tr>\n    <tr>\n      <th>71514</th>\n      <td>443842022</td>\n      <td>188574944</td>\n      <td>Other</td>\n      <td>Female</td>\n      <td>[40-50)</td>\n      <td>?</td>\n      <td>1</td>\n      <td>1</td>\n      <td>7</td>\n      <td>14</td>\n      <td>...</td>\n      <td>No</td>\n      <td>Up</td>\n      <td>No</td>\n      <td>No</td>\n      <td>No</td>\n      <td>No</td>\n      <td>No</td>\n      <td>Ch</td>\n      <td>Yes</td>\n      <td>&gt;30</td>\n    </tr>\n    <tr>\n      <th>71515</th>\n      <td>443842070</td>\n      <td>140199494</td>\n      <td>Other</td>\n      <td>Female</td>\n      <td>[60-70)</td>\n      <td>?</td>\n      <td>1</td>\n      <td>1</td>\n      <td>7</td>\n      <td>2</td>\n      <td>...</td>\n      <td>No</td>\n      <td>Steady</td>\n      <td>No</td>\n      <td>No</td>\n      <td>No</td>\n      <td>No</td>\n      <td>No</td>\n      <td>No</td>\n      <td>Yes</td>\n      <td>&gt;30</td>\n    </tr>\n    <tr>\n      <th>71516</th>\n      <td>443842340</td>\n      <td>120975314</td>\n      <td>Caucasian</td>\n      <td>Female</td>\n      <td>[80-90)</td>\n      <td>?</td>\n      <td>1</td>\n      <td>1</td>\n      <td>7</td>\n      <td>5</td>\n      <td>...</td>\n      <td>No</td>\n      <td>Up</td>\n      <td>No</td>\n      <td>No</td>\n      <td>No</td>\n      <td>No</td>\n      <td>No</td>\n      <td>Ch</td>\n      <td>Yes</td>\n      <td>NO</td>\n    </tr>\n    <tr>\n      <th>71517</th>\n      <td>443867222</td>\n      <td>175429310</td>\n      <td>Caucasian</td>\n      <td>Male</td>\n      <td>[70-80)</td>\n      <td>?</td>\n      <td>1</td>\n      <td>1</td>\n      <td>7</td>\n      <td>6</td>\n      <td>...</td>\n      <td>No</td>\n      <td>No</td>\n      <td>No</td>\n      <td>No</td>\n      <td>No</td>\n      <td>No</td>\n      <td>No</td>\n      <td>No</td>\n      <td>No</td>\n      <td>NO</td>\n    </tr>\n  </tbody>\n</table>\n<p>71518 rows × 50 columns</p>\n</div>"
     },
     "execution_count": 3,
     "metadata": {},
     "output_type": "execute_result"
    }
   ],
   "source": [
    "# 删除同一病人的多个数据行\n",
    "df = df.sort_values(by=['encounter_id', 'patient_nbr'], ascending=True)\n",
    "df.drop_duplicates('patient_nbr', inplace=True)\n",
    "df = df.reset_index(drop=True)\n",
    "df"
   ]
  },
  {
   "cell_type": "code",
   "execution_count": 4,
   "metadata": {},
   "outputs": [
    {
     "data": {
      "text/plain": "   ?  AfricanAmerican  Asian  Caucasian  Hispanic  Other\n0  0                1      2          3         4      5",
      "text/html": "<div>\n<style scoped>\n    .dataframe tbody tr th:only-of-type {\n        vertical-align: middle;\n    }\n\n    .dataframe tbody tr th {\n        vertical-align: top;\n    }\n\n    .dataframe thead th {\n        text-align: right;\n    }\n</style>\n<table border=\"1\" class=\"dataframe\">\n  <thead>\n    <tr style=\"text-align: right;\">\n      <th></th>\n      <th>?</th>\n      <th>AfricanAmerican</th>\n      <th>Asian</th>\n      <th>Caucasian</th>\n      <th>Hispanic</th>\n      <th>Other</th>\n    </tr>\n  </thead>\n  <tbody>\n    <tr>\n      <th>0</th>\n      <td>0</td>\n      <td>1</td>\n      <td>2</td>\n      <td>3</td>\n      <td>4</td>\n      <td>5</td>\n    </tr>\n  </tbody>\n</table>\n</div>"
     },
     "execution_count": 4,
     "metadata": {},
     "output_type": "execute_result"
    }
   ],
   "source": [
    "# 建立对应列处理字典\n",
    "race_data = {\"?\":0,\"AfricanAmerican\":1,\"Asian\":2,\"Caucasian\":3,\"Hispanic\":4,\"Other\":5}\n",
    "race_dict = pd.DataFrame(race_data, index=[0])\n",
    "race_dict"
   ]
  },
  {
   "cell_type": "code",
   "execution_count": 5,
   "metadata": {},
   "outputs": [
    {
     "data": {
      "text/plain": "   Unknown/Invalid  Male  Female\n0                0     1       2",
      "text/html": "<div>\n<style scoped>\n    .dataframe tbody tr th:only-of-type {\n        vertical-align: middle;\n    }\n\n    .dataframe tbody tr th {\n        vertical-align: top;\n    }\n\n    .dataframe thead th {\n        text-align: right;\n    }\n</style>\n<table border=\"1\" class=\"dataframe\">\n  <thead>\n    <tr style=\"text-align: right;\">\n      <th></th>\n      <th>Unknown/Invalid</th>\n      <th>Male</th>\n      <th>Female</th>\n    </tr>\n  </thead>\n  <tbody>\n    <tr>\n      <th>0</th>\n      <td>0</td>\n      <td>1</td>\n      <td>2</td>\n    </tr>\n  </tbody>\n</table>\n</div>"
     },
     "execution_count": 5,
     "metadata": {},
     "output_type": "execute_result"
    }
   ],
   "source": [
    "gender_data = {\"Unknown/Invalid\":0,\"Male\":1,\"Female\":2}\n",
    "gender_dict = pd.DataFrame(gender_data, index=[0])\n",
    "gender_dict"
   ]
  },
  {
   "cell_type": "code",
   "execution_count": 6,
   "metadata": {},
   "outputs": [
    {
     "data": {
      "text/plain": "   [0-10)  [10-20)  [20-30)  [30-40)  [40-50)  [50-60)  [60-70)  [70-80)  \\\n0       0        1        2        3        4        5        6        7   \n\n   [80-90)  [90-100)  \n0        8         9  ",
      "text/html": "<div>\n<style scoped>\n    .dataframe tbody tr th:only-of-type {\n        vertical-align: middle;\n    }\n\n    .dataframe tbody tr th {\n        vertical-align: top;\n    }\n\n    .dataframe thead th {\n        text-align: right;\n    }\n</style>\n<table border=\"1\" class=\"dataframe\">\n  <thead>\n    <tr style=\"text-align: right;\">\n      <th></th>\n      <th>[0-10)</th>\n      <th>[10-20)</th>\n      <th>[20-30)</th>\n      <th>[30-40)</th>\n      <th>[40-50)</th>\n      <th>[50-60)</th>\n      <th>[60-70)</th>\n      <th>[70-80)</th>\n      <th>[80-90)</th>\n      <th>[90-100)</th>\n    </tr>\n  </thead>\n  <tbody>\n    <tr>\n      <th>0</th>\n      <td>0</td>\n      <td>1</td>\n      <td>2</td>\n      <td>3</td>\n      <td>4</td>\n      <td>5</td>\n      <td>6</td>\n      <td>7</td>\n      <td>8</td>\n      <td>9</td>\n    </tr>\n  </tbody>\n</table>\n</div>"
     },
     "execution_count": 6,
     "metadata": {},
     "output_type": "execute_result"
    }
   ],
   "source": [
    "age_data = {\"[0-10)\":0,\"[10-20)\":1,\"[20-30)\":2,\"[30-40)\":3,\"[40-50)\":4,\"[50-60)\":5,\"[60-70)\":6,\"[70-80)\":7,\"[80-90)\":8,\"[90-100)\":9}\n",
    "age_dict = pd.DataFrame(age_data, index=[0])\n",
    "age_dict"
   ]
  },
  {
   "cell_type": "code",
   "execution_count": 7,
   "metadata": {},
   "outputs": [
    {
     "data": {
      "text/plain": "   ?  [0-25)  [25-50)  [50-75)  [75-100)  [100-125)  [125-150)  [150-175)  \\\n0  0       1        2        3         4          5          6          7   \n\n   [175-200)  >200  \n0          8     9  ",
      "text/html": "<div>\n<style scoped>\n    .dataframe tbody tr th:only-of-type {\n        vertical-align: middle;\n    }\n\n    .dataframe tbody tr th {\n        vertical-align: top;\n    }\n\n    .dataframe thead th {\n        text-align: right;\n    }\n</style>\n<table border=\"1\" class=\"dataframe\">\n  <thead>\n    <tr style=\"text-align: right;\">\n      <th></th>\n      <th>?</th>\n      <th>[0-25)</th>\n      <th>[25-50)</th>\n      <th>[50-75)</th>\n      <th>[75-100)</th>\n      <th>[100-125)</th>\n      <th>[125-150)</th>\n      <th>[150-175)</th>\n      <th>[175-200)</th>\n      <th>&gt;200</th>\n    </tr>\n  </thead>\n  <tbody>\n    <tr>\n      <th>0</th>\n      <td>0</td>\n      <td>1</td>\n      <td>2</td>\n      <td>3</td>\n      <td>4</td>\n      <td>5</td>\n      <td>6</td>\n      <td>7</td>\n      <td>8</td>\n      <td>9</td>\n    </tr>\n  </tbody>\n</table>\n</div>"
     },
     "execution_count": 7,
     "metadata": {},
     "output_type": "execute_result"
    }
   ],
   "source": [
    "weight_data = {\"?\":0,\"[0-25)\":1,\"[25-50)\":2,\"[50-75)\":3,\"[75-100)\":4,\"[100-125)\":5,\"[125-150)\":6,\"[150-175)\":7,\"[175-200)\":8,\">200\":9}\n",
    "weight_dict = pd.DataFrame(weight_data, index=[0])\n",
    "weight_dict"
   ]
  },
  {
   "cell_type": "code",
   "execution_count": 8,
   "metadata": {},
   "outputs": [
    {
     "data": {
      "text/plain": "   ?  MC  MD  HM  UN  BC  SP  CP  SI  DM  CM  CH  PO  WC  OT  OG  MP  FR\n0  0   1   2   3   4   5   6   7   8   9  10  11  12  13  14  15  16  17",
      "text/html": "<div>\n<style scoped>\n    .dataframe tbody tr th:only-of-type {\n        vertical-align: middle;\n    }\n\n    .dataframe tbody tr th {\n        vertical-align: top;\n    }\n\n    .dataframe thead th {\n        text-align: right;\n    }\n</style>\n<table border=\"1\" class=\"dataframe\">\n  <thead>\n    <tr style=\"text-align: right;\">\n      <th></th>\n      <th>?</th>\n      <th>MC</th>\n      <th>MD</th>\n      <th>HM</th>\n      <th>UN</th>\n      <th>BC</th>\n      <th>SP</th>\n      <th>CP</th>\n      <th>SI</th>\n      <th>DM</th>\n      <th>CM</th>\n      <th>CH</th>\n      <th>PO</th>\n      <th>WC</th>\n      <th>OT</th>\n      <th>OG</th>\n      <th>MP</th>\n      <th>FR</th>\n    </tr>\n  </thead>\n  <tbody>\n    <tr>\n      <th>0</th>\n      <td>0</td>\n      <td>1</td>\n      <td>2</td>\n      <td>3</td>\n      <td>4</td>\n      <td>5</td>\n      <td>6</td>\n      <td>7</td>\n      <td>8</td>\n      <td>9</td>\n      <td>10</td>\n      <td>11</td>\n      <td>12</td>\n      <td>13</td>\n      <td>14</td>\n      <td>15</td>\n      <td>16</td>\n      <td>17</td>\n    </tr>\n  </tbody>\n</table>\n</div>"
     },
     "execution_count": 8,
     "metadata": {},
     "output_type": "execute_result"
    }
   ],
   "source": [
    "payer_code_unique = df[\"payer_code\"].unique()\n",
    "payer_code_data = {}\n",
    "for i in range(0, len(payer_code_unique)):\n",
    "    payer_code_data[payer_code_unique[i]] = i\n",
    "payer_code_dict = pd.DataFrame(payer_code_data, index=[0])\n",
    "payer_code_dict"
   ]
  },
  {
   "cell_type": "code",
   "execution_count": 9,
   "metadata": {},
   "outputs": [
    {
     "data": {
      "text/plain": "   ?  InternalMedicine  Family/GeneralPractice  Cardiology  Surgery-General  \\\n0  0                 1                       2           3                4   \n\n   Orthopedics  Gastroenterology  Surgery-Cardiovascular/Thoracic  Nephrology  \\\n0            5                 6                                7           8   \n\n   Orthopedics-Reconstructive  ...  SportsMedicine  Speech  Hospitalist  \\\n0                           9  ...              61      62           63   \n\n   OutreachServices  Cardiology-Pediatric  Perinatology  Neurophysiology  \\\n0                64                    65            66               67   \n\n   Endocrinology-Metabolism  DCPTEAM  Resident  \n0                        68       69        70  \n\n[1 rows x 71 columns]",
      "text/html": "<div>\n<style scoped>\n    .dataframe tbody tr th:only-of-type {\n        vertical-align: middle;\n    }\n\n    .dataframe tbody tr th {\n        vertical-align: top;\n    }\n\n    .dataframe thead th {\n        text-align: right;\n    }\n</style>\n<table border=\"1\" class=\"dataframe\">\n  <thead>\n    <tr style=\"text-align: right;\">\n      <th></th>\n      <th>?</th>\n      <th>InternalMedicine</th>\n      <th>Family/GeneralPractice</th>\n      <th>Cardiology</th>\n      <th>Surgery-General</th>\n      <th>Orthopedics</th>\n      <th>Gastroenterology</th>\n      <th>Surgery-Cardiovascular/Thoracic</th>\n      <th>Nephrology</th>\n      <th>Orthopedics-Reconstructive</th>\n      <th>...</th>\n      <th>SportsMedicine</th>\n      <th>Speech</th>\n      <th>Hospitalist</th>\n      <th>OutreachServices</th>\n      <th>Cardiology-Pediatric</th>\n      <th>Perinatology</th>\n      <th>Neurophysiology</th>\n      <th>Endocrinology-Metabolism</th>\n      <th>DCPTEAM</th>\n      <th>Resident</th>\n    </tr>\n  </thead>\n  <tbody>\n    <tr>\n      <th>0</th>\n      <td>0</td>\n      <td>1</td>\n      <td>2</td>\n      <td>3</td>\n      <td>4</td>\n      <td>5</td>\n      <td>6</td>\n      <td>7</td>\n      <td>8</td>\n      <td>9</td>\n      <td>...</td>\n      <td>61</td>\n      <td>62</td>\n      <td>63</td>\n      <td>64</td>\n      <td>65</td>\n      <td>66</td>\n      <td>67</td>\n      <td>68</td>\n      <td>69</td>\n      <td>70</td>\n    </tr>\n  </tbody>\n</table>\n<p>1 rows × 71 columns</p>\n</div>"
     },
     "execution_count": 9,
     "metadata": {},
     "output_type": "execute_result"
    }
   ],
   "source": [
    "medical_specialty_unique = df[\"medical_specialty\"].unique()\n",
    "medical_specialty_data = {}\n",
    "for i in range(0, len(medical_specialty_unique)):\n",
    "    medical_specialty_data[medical_specialty_unique[i]] = i\n",
    "medical_specialty_dict = pd.DataFrame(medical_specialty_data, index=[0])\n",
    "medical_specialty_dict"
   ]
  },
  {
   "cell_type": "code",
   "execution_count": 10,
   "metadata": {},
   "outputs": [
    {
     "data": {
      "text/plain": "   None  Norm  >200  >300\n0     0     1     2     3",
      "text/html": "<div>\n<style scoped>\n    .dataframe tbody tr th:only-of-type {\n        vertical-align: middle;\n    }\n\n    .dataframe tbody tr th {\n        vertical-align: top;\n    }\n\n    .dataframe thead th {\n        text-align: right;\n    }\n</style>\n<table border=\"1\" class=\"dataframe\">\n  <thead>\n    <tr style=\"text-align: right;\">\n      <th></th>\n      <th>None</th>\n      <th>Norm</th>\n      <th>&gt;200</th>\n      <th>&gt;300</th>\n    </tr>\n  </thead>\n  <tbody>\n    <tr>\n      <th>0</th>\n      <td>0</td>\n      <td>1</td>\n      <td>2</td>\n      <td>3</td>\n    </tr>\n  </tbody>\n</table>\n</div>"
     },
     "execution_count": 10,
     "metadata": {},
     "output_type": "execute_result"
    }
   ],
   "source": [
    "max_glu_serum_data = {\"None\":0,\"Norm\":1,\">200\":2,\">300\":3}\n",
    "max_glu_serum_dict = pd.DataFrame(max_glu_serum_data, index=[0])\n",
    "max_glu_serum_dict"
   ]
  },
  {
   "cell_type": "code",
   "execution_count": 11,
   "metadata": {},
   "outputs": [
    {
     "data": {
      "text/plain": "   None  Norm  >7  >8\n0     0     1   2   3",
      "text/html": "<div>\n<style scoped>\n    .dataframe tbody tr th:only-of-type {\n        vertical-align: middle;\n    }\n\n    .dataframe tbody tr th {\n        vertical-align: top;\n    }\n\n    .dataframe thead th {\n        text-align: right;\n    }\n</style>\n<table border=\"1\" class=\"dataframe\">\n  <thead>\n    <tr style=\"text-align: right;\">\n      <th></th>\n      <th>None</th>\n      <th>Norm</th>\n      <th>&gt;7</th>\n      <th>&gt;8</th>\n    </tr>\n  </thead>\n  <tbody>\n    <tr>\n      <th>0</th>\n      <td>0</td>\n      <td>1</td>\n      <td>2</td>\n      <td>3</td>\n    </tr>\n  </tbody>\n</table>\n</div>"
     },
     "execution_count": 11,
     "metadata": {},
     "output_type": "execute_result"
    }
   ],
   "source": [
    "A1Cresult_data = {\"None\":0,\"Norm\":1,\">7\":2,\">8\":3}\n",
    "A1Cresult_dict = pd.DataFrame(A1Cresult_data, index=[0])\n",
    "A1Cresult_dict"
   ]
  },
  {
   "cell_type": "code",
   "execution_count": 12,
   "metadata": {},
   "outputs": [
    {
     "data": {
      "text/plain": "   No  Steady  Up  Down\n0   0       1   2     3",
      "text/html": "<div>\n<style scoped>\n    .dataframe tbody tr th:only-of-type {\n        vertical-align: middle;\n    }\n\n    .dataframe tbody tr th {\n        vertical-align: top;\n    }\n\n    .dataframe thead th {\n        text-align: right;\n    }\n</style>\n<table border=\"1\" class=\"dataframe\">\n  <thead>\n    <tr style=\"text-align: right;\">\n      <th></th>\n      <th>No</th>\n      <th>Steady</th>\n      <th>Up</th>\n      <th>Down</th>\n    </tr>\n  </thead>\n  <tbody>\n    <tr>\n      <th>0</th>\n      <td>0</td>\n      <td>1</td>\n      <td>2</td>\n      <td>3</td>\n    </tr>\n  </tbody>\n</table>\n</div>"
     },
     "execution_count": 12,
     "metadata": {},
     "output_type": "execute_result"
    }
   ],
   "source": [
    "normal_data = {\"No\":0,\"Steady\":1,\"Up\":2,\"Down\":3}\n",
    "normal_dict = pd.DataFrame(normal_data, index=[0])\n",
    "normal_dict"
   ]
  },
  {
   "cell_type": "code",
   "execution_count": 13,
   "metadata": {},
   "outputs": [
    {
     "data": {
      "text/plain": "   No  Ch\n0   0   1",
      "text/html": "<div>\n<style scoped>\n    .dataframe tbody tr th:only-of-type {\n        vertical-align: middle;\n    }\n\n    .dataframe tbody tr th {\n        vertical-align: top;\n    }\n\n    .dataframe thead th {\n        text-align: right;\n    }\n</style>\n<table border=\"1\" class=\"dataframe\">\n  <thead>\n    <tr style=\"text-align: right;\">\n      <th></th>\n      <th>No</th>\n      <th>Ch</th>\n    </tr>\n  </thead>\n  <tbody>\n    <tr>\n      <th>0</th>\n      <td>0</td>\n      <td>1</td>\n    </tr>\n  </tbody>\n</table>\n</div>"
     },
     "execution_count": 13,
     "metadata": {},
     "output_type": "execute_result"
    }
   ],
   "source": [
    "change_data = {\"No\":0,\"Ch\":1}\n",
    "change_dict = pd.DataFrame(change_data, index=[0])\n",
    "change_dict"
   ]
  },
  {
   "cell_type": "code",
   "execution_count": 14,
   "metadata": {},
   "outputs": [
    {
     "data": {
      "text/plain": "   No  Yes\n0   0    1",
      "text/html": "<div>\n<style scoped>\n    .dataframe tbody tr th:only-of-type {\n        vertical-align: middle;\n    }\n\n    .dataframe tbody tr th {\n        vertical-align: top;\n    }\n\n    .dataframe thead th {\n        text-align: right;\n    }\n</style>\n<table border=\"1\" class=\"dataframe\">\n  <thead>\n    <tr style=\"text-align: right;\">\n      <th></th>\n      <th>No</th>\n      <th>Yes</th>\n    </tr>\n  </thead>\n  <tbody>\n    <tr>\n      <th>0</th>\n      <td>0</td>\n      <td>1</td>\n    </tr>\n  </tbody>\n</table>\n</div>"
     },
     "execution_count": 14,
     "metadata": {},
     "output_type": "execute_result"
    }
   ],
   "source": [
    "diabetesMed_data = {\"No\":0,\"Yes\":1}\n",
    "diabetesMed_dict = pd.DataFrame(diabetesMed_data, index=[0])\n",
    "diabetesMed_dict"
   ]
  },
  {
   "cell_type": "code",
   "execution_count": 15,
   "metadata": {},
   "outputs": [
    {
     "data": {
      "text/plain": "   NO  <30  >30\n0   0    1    2",
      "text/html": "<div>\n<style scoped>\n    .dataframe tbody tr th:only-of-type {\n        vertical-align: middle;\n    }\n\n    .dataframe tbody tr th {\n        vertical-align: top;\n    }\n\n    .dataframe thead th {\n        text-align: right;\n    }\n</style>\n<table border=\"1\" class=\"dataframe\">\n  <thead>\n    <tr style=\"text-align: right;\">\n      <th></th>\n      <th>NO</th>\n      <th>&lt;30</th>\n      <th>&gt;30</th>\n    </tr>\n  </thead>\n  <tbody>\n    <tr>\n      <th>0</th>\n      <td>0</td>\n      <td>1</td>\n      <td>2</td>\n    </tr>\n  </tbody>\n</table>\n</div>"
     },
     "execution_count": 15,
     "metadata": {},
     "output_type": "execute_result"
    }
   ],
   "source": [
    "readmitted_data = {\"NO\":0,\"<30\":1,\">30\":2}\n",
    "readmitted_dict = pd.DataFrame(readmitted_data, index=[0])\n",
    "readmitted_dict"
   ]
  },
  {
   "cell_type": "code",
   "execution_count": null,
   "metadata": {
    "pycharm": {
     "is_executing": true
    }
   },
   "outputs": [],
   "source": [
    "for i in range(0, len(df)):\n",
    "    df.loc[i, \"race\"] = race_dict[df[\"race\"][i]][0]\n",
    "    df.loc[i, \"gender\"] = gender_dict[df[\"gender\"][i]][0]\n",
    "    df.loc[i, \"age\"] = age_dict[df[\"age\"][i]][0]\n",
    "    df.loc[i, \"weight\"] = weight_dict[df[\"weight\"][i]][0]\n",
    "    df.loc[i, \"payer_code\"] = payer_code_dict[df[\"payer_code\"][i]][0]\n",
    "    df.loc[i, \"medical_specialty\"] =  medical_specialty_dict[df[\"medical_specialty\"][i]][0]\n",
    "\n",
    "    if (df[\"diag_1\"][i] == '?') or ('V' in df[\"diag_1\"][i]) or ('E' in df[\"diag_1\"][i]):\n",
    "        df.loc[i, \"diag_1\"] = 0\n",
    "    if (df[\"diag_2\"][i] == '?') or ('V' in df[\"diag_2\"][i]) or ('E' in df[\"diag_2\"][i]):\n",
    "        df.loc[i, \"diag_2\"] = 0\n",
    "    if (df[\"diag_3\"][i] == '?') or ('V' in df[\"diag_3\"][i]) or ('E' in df[\"diag_3\"][i]):\n",
    "        df.loc[i, \"diag_3\"] = 0\n",
    "\n",
    "    df.loc[i, \"max_glu_serum\"] =  max_glu_serum_dict[df[\"max_glu_serum\"][i]][0]\n",
    "    df.loc[i, \"A1Cresult\"] =  A1Cresult_dict[df[\"A1Cresult\"][i]][0]\n",
    "\n",
    "    for j in range(24, 47):\n",
    "        df.iloc[i, j] =  normal_dict[df.iloc[i, j]][0]\n",
    "\n",
    "    df.loc[i, \"change\"] =  change_dict[df[\"change\"][i]][0]\n",
    "    df.loc[i, \"diabetesMed\"] =  diabetesMed_dict[df[\"diabetesMed\"][i]][0]\n",
    "    df.loc[i, \"readmitted\"] =  readmitted_dict[df[\"readmitted\"][i]][0]\n",
    "\n",
    "    print(\"当前处理进度：%d / %d\" % (i, len(df)))"
   ]
  },
  {
   "cell_type": "code",
   "execution_count": 17,
   "metadata": {},
   "outputs": [
    {
     "data": {
      "text/plain": "   encounter_id  patient_nbr race gender age weight  admission_type_id  \\\n0         12522     48330783    3      2   8      0                  2   \n1         15738     63555939    3      2   9      0                  3   \n2         16680     42519267    3      1   4      0                  1   \n3         28236     89869032    1      2   4      0                  1   \n4         35754     82637451    3      1   5      0                  2   \n\n   discharge_disposition_id  admission_source_id  time_in_hospital  ...  \\\n0                         1                    4                13  ...   \n1                         3                    4                12  ...   \n2                         1                    7                 1  ...   \n3                         1                    7                 9  ...   \n4                         1                    2                 3  ...   \n\n  citoglipton insulin  glyburide-metformin  glipizide-metformin  \\\n0           0       1                    0                    0   \n1           0       1                    0                    0   \n2           0       1                    0                    0   \n3           0       1                    0                    0   \n4           0       1                    0                    0   \n\n   glimepiride-pioglitazone  metformin-rosiglitazone  metformin-pioglitazone  \\\n0                         0                        0                       0   \n1                         0                        0                       0   \n2                         0                        0                       0   \n3                         0                        0                       0   \n4                         0                        0                       0   \n\n   change diabetesMed readmitted  \n0       1           1          0  \n1       1           1          0  \n2       1           1          0  \n3       0           1          2  \n4       0           1          2  \n\n[5 rows x 50 columns]",
      "text/html": "<div>\n<style scoped>\n    .dataframe tbody tr th:only-of-type {\n        vertical-align: middle;\n    }\n\n    .dataframe tbody tr th {\n        vertical-align: top;\n    }\n\n    .dataframe thead th {\n        text-align: right;\n    }\n</style>\n<table border=\"1\" class=\"dataframe\">\n  <thead>\n    <tr style=\"text-align: right;\">\n      <th></th>\n      <th>encounter_id</th>\n      <th>patient_nbr</th>\n      <th>race</th>\n      <th>gender</th>\n      <th>age</th>\n      <th>weight</th>\n      <th>admission_type_id</th>\n      <th>discharge_disposition_id</th>\n      <th>admission_source_id</th>\n      <th>time_in_hospital</th>\n      <th>...</th>\n      <th>citoglipton</th>\n      <th>insulin</th>\n      <th>glyburide-metformin</th>\n      <th>glipizide-metformin</th>\n      <th>glimepiride-pioglitazone</th>\n      <th>metformin-rosiglitazone</th>\n      <th>metformin-pioglitazone</th>\n      <th>change</th>\n      <th>diabetesMed</th>\n      <th>readmitted</th>\n    </tr>\n  </thead>\n  <tbody>\n    <tr>\n      <th>0</th>\n      <td>12522</td>\n      <td>48330783</td>\n      <td>3</td>\n      <td>2</td>\n      <td>8</td>\n      <td>0</td>\n      <td>2</td>\n      <td>1</td>\n      <td>4</td>\n      <td>13</td>\n      <td>...</td>\n      <td>0</td>\n      <td>1</td>\n      <td>0</td>\n      <td>0</td>\n      <td>0</td>\n      <td>0</td>\n      <td>0</td>\n      <td>1</td>\n      <td>1</td>\n      <td>0</td>\n    </tr>\n    <tr>\n      <th>1</th>\n      <td>15738</td>\n      <td>63555939</td>\n      <td>3</td>\n      <td>2</td>\n      <td>9</td>\n      <td>0</td>\n      <td>3</td>\n      <td>3</td>\n      <td>4</td>\n      <td>12</td>\n      <td>...</td>\n      <td>0</td>\n      <td>1</td>\n      <td>0</td>\n      <td>0</td>\n      <td>0</td>\n      <td>0</td>\n      <td>0</td>\n      <td>1</td>\n      <td>1</td>\n      <td>0</td>\n    </tr>\n    <tr>\n      <th>2</th>\n      <td>16680</td>\n      <td>42519267</td>\n      <td>3</td>\n      <td>1</td>\n      <td>4</td>\n      <td>0</td>\n      <td>1</td>\n      <td>1</td>\n      <td>7</td>\n      <td>1</td>\n      <td>...</td>\n      <td>0</td>\n      <td>1</td>\n      <td>0</td>\n      <td>0</td>\n      <td>0</td>\n      <td>0</td>\n      <td>0</td>\n      <td>1</td>\n      <td>1</td>\n      <td>0</td>\n    </tr>\n    <tr>\n      <th>3</th>\n      <td>28236</td>\n      <td>89869032</td>\n      <td>1</td>\n      <td>2</td>\n      <td>4</td>\n      <td>0</td>\n      <td>1</td>\n      <td>1</td>\n      <td>7</td>\n      <td>9</td>\n      <td>...</td>\n      <td>0</td>\n      <td>1</td>\n      <td>0</td>\n      <td>0</td>\n      <td>0</td>\n      <td>0</td>\n      <td>0</td>\n      <td>0</td>\n      <td>1</td>\n      <td>2</td>\n    </tr>\n    <tr>\n      <th>4</th>\n      <td>35754</td>\n      <td>82637451</td>\n      <td>3</td>\n      <td>1</td>\n      <td>5</td>\n      <td>0</td>\n      <td>2</td>\n      <td>1</td>\n      <td>2</td>\n      <td>3</td>\n      <td>...</td>\n      <td>0</td>\n      <td>1</td>\n      <td>0</td>\n      <td>0</td>\n      <td>0</td>\n      <td>0</td>\n      <td>0</td>\n      <td>0</td>\n      <td>1</td>\n      <td>2</td>\n    </tr>\n  </tbody>\n</table>\n<p>5 rows × 50 columns</p>\n</div>"
     },
     "execution_count": 17,
     "metadata": {},
     "output_type": "execute_result"
    }
   ],
   "source": [
    "df.head()"
   ]
  },
  {
   "cell_type": "code",
   "execution_count": 18,
   "metadata": {},
   "outputs": [],
   "source": [
    "output1 = '.\\dataset_diabetes\\diabetic_data2.csv'\n",
    "df.to_csv(output1, sep=',', index=False, header=True)"
   ]
  },
  {
   "cell_type": "code",
   "execution_count": 19,
   "metadata": {},
   "outputs": [],
   "source": [
    "df2 = pd.read_csv('.\\dataset_diabetes\\diabetic_data2.csv')"
   ]
  },
  {
   "cell_type": "code",
   "execution_count": 20,
   "metadata": {},
   "outputs": [],
   "source": [
    "# 删除最后一列再入院数据\n",
    "df2 = df2.drop([\"readmitted\"], axis=1)\n",
    "# 删除前两列用于上述病人排序的序列数据\n",
    "df2 = df2.drop(['encounter_id', 'patient_nbr'], axis=1)\n",
    "# 删除取值唯一的数据列\n",
    "df2 = df2.drop(['examide', 'citoglipton'], axis=1)"
   ]
  },
  {
   "cell_type": "code",
   "execution_count": 21,
   "metadata": {},
   "outputs": [
    {
     "data": {
      "text/plain": "   race  gender  age  weight  admission_type_id  discharge_disposition_id  \\\n0   3.0     2.0  8.0     0.0                2.0                       1.0   \n1   3.0     2.0  9.0     0.0                3.0                       3.0   \n2   3.0     1.0  4.0     0.0                1.0                       1.0   \n3   1.0     2.0  4.0     0.0                1.0                       1.0   \n4   3.0     1.0  5.0     0.0                2.0                       1.0   \n\n   admission_source_id  time_in_hospital  payer_code  medical_specialty  ...  \\\n0                  4.0              13.0         0.0                0.0  ...   \n1                  4.0              12.0         0.0                1.0  ...   \n2                  7.0               1.0         0.0                0.0  ...   \n3                  7.0               9.0         0.0                0.0  ...   \n4                  2.0               3.0         0.0                0.0  ...   \n\n   troglitazone  tolazamide  insulin  glyburide-metformin  \\\n0           0.0         0.0      1.0                  0.0   \n1           0.0         0.0      1.0                  0.0   \n2           0.0         0.0      1.0                  0.0   \n3           0.0         0.0      1.0                  0.0   \n4           0.0         0.0      1.0                  0.0   \n\n   glipizide-metformin  glimepiride-pioglitazone  metformin-rosiglitazone  \\\n0                  0.0                       0.0                      0.0   \n1                  0.0                       0.0                      0.0   \n2                  0.0                       0.0                      0.0   \n3                  0.0                       0.0                      0.0   \n4                  0.0                       0.0                      0.0   \n\n   metformin-pioglitazone  change  diabetesMed  \n0                     0.0     1.0          1.0  \n1                     0.0     1.0          1.0  \n2                     0.0     1.0          1.0  \n3                     0.0     0.0          1.0  \n4                     0.0     0.0          1.0  \n\n[5 rows x 45 columns]",
      "text/html": "<div>\n<style scoped>\n    .dataframe tbody tr th:only-of-type {\n        vertical-align: middle;\n    }\n\n    .dataframe tbody tr th {\n        vertical-align: top;\n    }\n\n    .dataframe thead th {\n        text-align: right;\n    }\n</style>\n<table border=\"1\" class=\"dataframe\">\n  <thead>\n    <tr style=\"text-align: right;\">\n      <th></th>\n      <th>race</th>\n      <th>gender</th>\n      <th>age</th>\n      <th>weight</th>\n      <th>admission_type_id</th>\n      <th>discharge_disposition_id</th>\n      <th>admission_source_id</th>\n      <th>time_in_hospital</th>\n      <th>payer_code</th>\n      <th>medical_specialty</th>\n      <th>...</th>\n      <th>troglitazone</th>\n      <th>tolazamide</th>\n      <th>insulin</th>\n      <th>glyburide-metformin</th>\n      <th>glipizide-metformin</th>\n      <th>glimepiride-pioglitazone</th>\n      <th>metformin-rosiglitazone</th>\n      <th>metformin-pioglitazone</th>\n      <th>change</th>\n      <th>diabetesMed</th>\n    </tr>\n  </thead>\n  <tbody>\n    <tr>\n      <th>0</th>\n      <td>3.0</td>\n      <td>2.0</td>\n      <td>8.0</td>\n      <td>0.0</td>\n      <td>2.0</td>\n      <td>1.0</td>\n      <td>4.0</td>\n      <td>13.0</td>\n      <td>0.0</td>\n      <td>0.0</td>\n      <td>...</td>\n      <td>0.0</td>\n      <td>0.0</td>\n      <td>1.0</td>\n      <td>0.0</td>\n      <td>0.0</td>\n      <td>0.0</td>\n      <td>0.0</td>\n      <td>0.0</td>\n      <td>1.0</td>\n      <td>1.0</td>\n    </tr>\n    <tr>\n      <th>1</th>\n      <td>3.0</td>\n      <td>2.0</td>\n      <td>9.0</td>\n      <td>0.0</td>\n      <td>3.0</td>\n      <td>3.0</td>\n      <td>4.0</td>\n      <td>12.0</td>\n      <td>0.0</td>\n      <td>1.0</td>\n      <td>...</td>\n      <td>0.0</td>\n      <td>0.0</td>\n      <td>1.0</td>\n      <td>0.0</td>\n      <td>0.0</td>\n      <td>0.0</td>\n      <td>0.0</td>\n      <td>0.0</td>\n      <td>1.0</td>\n      <td>1.0</td>\n    </tr>\n    <tr>\n      <th>2</th>\n      <td>3.0</td>\n      <td>1.0</td>\n      <td>4.0</td>\n      <td>0.0</td>\n      <td>1.0</td>\n      <td>1.0</td>\n      <td>7.0</td>\n      <td>1.0</td>\n      <td>0.0</td>\n      <td>0.0</td>\n      <td>...</td>\n      <td>0.0</td>\n      <td>0.0</td>\n      <td>1.0</td>\n      <td>0.0</td>\n      <td>0.0</td>\n      <td>0.0</td>\n      <td>0.0</td>\n      <td>0.0</td>\n      <td>1.0</td>\n      <td>1.0</td>\n    </tr>\n    <tr>\n      <th>3</th>\n      <td>1.0</td>\n      <td>2.0</td>\n      <td>4.0</td>\n      <td>0.0</td>\n      <td>1.0</td>\n      <td>1.0</td>\n      <td>7.0</td>\n      <td>9.0</td>\n      <td>0.0</td>\n      <td>0.0</td>\n      <td>...</td>\n      <td>0.0</td>\n      <td>0.0</td>\n      <td>1.0</td>\n      <td>0.0</td>\n      <td>0.0</td>\n      <td>0.0</td>\n      <td>0.0</td>\n      <td>0.0</td>\n      <td>0.0</td>\n      <td>1.0</td>\n    </tr>\n    <tr>\n      <th>4</th>\n      <td>3.0</td>\n      <td>1.0</td>\n      <td>5.0</td>\n      <td>0.0</td>\n      <td>2.0</td>\n      <td>1.0</td>\n      <td>2.0</td>\n      <td>3.0</td>\n      <td>0.0</td>\n      <td>0.0</td>\n      <td>...</td>\n      <td>0.0</td>\n      <td>0.0</td>\n      <td>1.0</td>\n      <td>0.0</td>\n      <td>0.0</td>\n      <td>0.0</td>\n      <td>0.0</td>\n      <td>0.0</td>\n      <td>0.0</td>\n      <td>1.0</td>\n    </tr>\n  </tbody>\n</table>\n<p>5 rows × 45 columns</p>\n</div>"
     },
     "execution_count": 21,
     "metadata": {},
     "output_type": "execute_result"
    }
   ],
   "source": [
    "df2 = df2.astype('float')\n",
    "df2.head()"
   ]
  },
  {
   "cell_type": "code",
   "execution_count": 22,
   "metadata": {},
   "outputs": [
    {
     "data": {
      "text/plain": "   race  gender       age  weight  admission_type_id  \\\n0   0.6     1.0  0.888889     0.0           0.142857   \n1   0.6     1.0  1.000000     0.0           0.285714   \n2   0.6     0.5  0.444444     0.0           0.000000   \n3   0.2     1.0  0.444444     0.0           0.000000   \n4   0.6     0.5  0.555556     0.0           0.142857   \n\n   discharge_disposition_id  admission_source_id  time_in_hospital  \\\n0                  0.000000             0.125000          0.923077   \n1                  0.074074             0.125000          0.846154   \n2                  0.000000             0.250000          0.000000   \n3                  0.000000             0.250000          0.615385   \n4                  0.000000             0.041667          0.153846   \n\n   payer_code  medical_specialty  ...  troglitazone  tolazamide   insulin  \\\n0         0.0           0.000000  ...           0.0         0.0  0.333333   \n1         0.0           0.014286  ...           0.0         0.0  0.333333   \n2         0.0           0.000000  ...           0.0         0.0  0.333333   \n3         0.0           0.000000  ...           0.0         0.0  0.333333   \n4         0.0           0.000000  ...           0.0         0.0  0.333333   \n\n   glyburide-metformin  glipizide-metformin  glimepiride-pioglitazone  \\\n0                  0.0                  0.0                       0.0   \n1                  0.0                  0.0                       0.0   \n2                  0.0                  0.0                       0.0   \n3                  0.0                  0.0                       0.0   \n4                  0.0                  0.0                       0.0   \n\n   metformin-rosiglitazone  metformin-pioglitazone  change  diabetesMed  \n0                      0.0                     0.0     1.0          1.0  \n1                      0.0                     0.0     1.0          1.0  \n2                      0.0                     0.0     1.0          1.0  \n3                      0.0                     0.0     0.0          1.0  \n4                      0.0                     0.0     0.0          1.0  \n\n[5 rows x 45 columns]",
      "text/html": "<div>\n<style scoped>\n    .dataframe tbody tr th:only-of-type {\n        vertical-align: middle;\n    }\n\n    .dataframe tbody tr th {\n        vertical-align: top;\n    }\n\n    .dataframe thead th {\n        text-align: right;\n    }\n</style>\n<table border=\"1\" class=\"dataframe\">\n  <thead>\n    <tr style=\"text-align: right;\">\n      <th></th>\n      <th>race</th>\n      <th>gender</th>\n      <th>age</th>\n      <th>weight</th>\n      <th>admission_type_id</th>\n      <th>discharge_disposition_id</th>\n      <th>admission_source_id</th>\n      <th>time_in_hospital</th>\n      <th>payer_code</th>\n      <th>medical_specialty</th>\n      <th>...</th>\n      <th>troglitazone</th>\n      <th>tolazamide</th>\n      <th>insulin</th>\n      <th>glyburide-metformin</th>\n      <th>glipizide-metformin</th>\n      <th>glimepiride-pioglitazone</th>\n      <th>metformin-rosiglitazone</th>\n      <th>metformin-pioglitazone</th>\n      <th>change</th>\n      <th>diabetesMed</th>\n    </tr>\n  </thead>\n  <tbody>\n    <tr>\n      <th>0</th>\n      <td>0.6</td>\n      <td>1.0</td>\n      <td>0.888889</td>\n      <td>0.0</td>\n      <td>0.142857</td>\n      <td>0.000000</td>\n      <td>0.125000</td>\n      <td>0.923077</td>\n      <td>0.0</td>\n      <td>0.000000</td>\n      <td>...</td>\n      <td>0.0</td>\n      <td>0.0</td>\n      <td>0.333333</td>\n      <td>0.0</td>\n      <td>0.0</td>\n      <td>0.0</td>\n      <td>0.0</td>\n      <td>0.0</td>\n      <td>1.0</td>\n      <td>1.0</td>\n    </tr>\n    <tr>\n      <th>1</th>\n      <td>0.6</td>\n      <td>1.0</td>\n      <td>1.000000</td>\n      <td>0.0</td>\n      <td>0.285714</td>\n      <td>0.074074</td>\n      <td>0.125000</td>\n      <td>0.846154</td>\n      <td>0.0</td>\n      <td>0.014286</td>\n      <td>...</td>\n      <td>0.0</td>\n      <td>0.0</td>\n      <td>0.333333</td>\n      <td>0.0</td>\n      <td>0.0</td>\n      <td>0.0</td>\n      <td>0.0</td>\n      <td>0.0</td>\n      <td>1.0</td>\n      <td>1.0</td>\n    </tr>\n    <tr>\n      <th>2</th>\n      <td>0.6</td>\n      <td>0.5</td>\n      <td>0.444444</td>\n      <td>0.0</td>\n      <td>0.000000</td>\n      <td>0.000000</td>\n      <td>0.250000</td>\n      <td>0.000000</td>\n      <td>0.0</td>\n      <td>0.000000</td>\n      <td>...</td>\n      <td>0.0</td>\n      <td>0.0</td>\n      <td>0.333333</td>\n      <td>0.0</td>\n      <td>0.0</td>\n      <td>0.0</td>\n      <td>0.0</td>\n      <td>0.0</td>\n      <td>1.0</td>\n      <td>1.0</td>\n    </tr>\n    <tr>\n      <th>3</th>\n      <td>0.2</td>\n      <td>1.0</td>\n      <td>0.444444</td>\n      <td>0.0</td>\n      <td>0.000000</td>\n      <td>0.000000</td>\n      <td>0.250000</td>\n      <td>0.615385</td>\n      <td>0.0</td>\n      <td>0.000000</td>\n      <td>...</td>\n      <td>0.0</td>\n      <td>0.0</td>\n      <td>0.333333</td>\n      <td>0.0</td>\n      <td>0.0</td>\n      <td>0.0</td>\n      <td>0.0</td>\n      <td>0.0</td>\n      <td>0.0</td>\n      <td>1.0</td>\n    </tr>\n    <tr>\n      <th>4</th>\n      <td>0.6</td>\n      <td>0.5</td>\n      <td>0.555556</td>\n      <td>0.0</td>\n      <td>0.142857</td>\n      <td>0.000000</td>\n      <td>0.041667</td>\n      <td>0.153846</td>\n      <td>0.0</td>\n      <td>0.000000</td>\n      <td>...</td>\n      <td>0.0</td>\n      <td>0.0</td>\n      <td>0.333333</td>\n      <td>0.0</td>\n      <td>0.0</td>\n      <td>0.0</td>\n      <td>0.0</td>\n      <td>0.0</td>\n      <td>0.0</td>\n      <td>1.0</td>\n    </tr>\n  </tbody>\n</table>\n<p>5 rows × 45 columns</p>\n</div>"
     },
     "execution_count": 22,
     "metadata": {},
     "output_type": "execute_result"
    }
   ],
   "source": [
    "# 数据归一化\n",
    "for column in df2:\n",
    "    if df2.loc[:, column].min() == df2.loc[:, column].max():  #避免单值属性计算出bug\n",
    "        df2.loc[:, column] = 0.0\n",
    "    else:\n",
    "        df2.loc[:, column] = \\\n",
    "            (df2.loc[:, column] - df2.loc[:, column].min()) / (df2.loc[:, column].max()- df2.loc[:, column].min())\n",
    "\n",
    "df2.head()"
   ]
  },
  {
   "cell_type": "markdown",
   "metadata": {},
   "source": [
    "# 2.层次聚类"
   ]
  },
  {
   "cell_type": "markdown",
   "metadata": {},
   "source": [
    "### 2.1 定义两点距离公式"
   ]
  },
  {
   "cell_type": "code",
   "execution_count": 23,
   "metadata": {},
   "outputs": [],
   "source": [
    "def dis_between_two_point(point1, point2):\n",
    "    '''\n",
    "    这是一个计算不同的两个类簇中心点距离的函数\n",
    "    :param point1:list\n",
    "    :param point2:list\n",
    "    :return:double\n",
    "    '''\n",
    "    dis = 0.0\n",
    "    weishu = min(len(point1[0]), len(point2[0]))\n",
    "    for i in range(1, weishu):\n",
    "        dis += mt.pow(point1[0][i] - point2[0][i], 2)\n",
    "    return mt.sqrt(dis)"
   ]
  },
  {
   "cell_type": "markdown",
   "metadata": {},
   "source": [
    "### 2.2 定义层次聚类的数据结构——聚类树节点"
   ]
  },
  {
   "cell_type": "code",
   "execution_count": 24,
   "metadata": {},
   "outputs": [],
   "source": [
    "class julei_node(object):\n",
    "    def __init__(self, cn, cx = -1, ln = -1, rn = -1, dis = -1, ic = False):\n",
    "        '''\n",
    "        聚类树节点生成\n",
    "        :param cn:list,左右子节点的中心节点的特征向量\n",
    "        :param cx:np.julei_node,左右子节点的中心节点序号\n",
    "        :param ln:int,左子节点序号\n",
    "        :param rn:np.julei_node,右子节点序号\n",
    "        :param ic:boolean,标识本节点（左右子节点的中心节点）是否已经参与过计算\n",
    "        '''\n",
    "        self.core = cn,\n",
    "        self.core_node = cx,\n",
    "        self.left_node = ln,\n",
    "        self.right_node = rn,\n",
    "        self.is_computed = ic"
   ]
  },
  {
   "cell_type": "markdown",
   "metadata": {},
   "source": [
    "### 2.3 定义新聚类节点的计算方式"
   ]
  },
  {
   "cell_type": "code",
   "execution_count": 25,
   "metadata": {},
   "outputs": [],
   "source": [
    "def core_node(node1, node2):\n",
    "    '''\n",
    "    理论上应该将两类簇的全部数据点取平均活得新的中心点/类簇点，考虑时间复杂度这里采用两类簇的中心点取平均作为新的中心点/类簇点\n",
    "    :param node1: julei_node\n",
    "    :param node2: julei_node\n",
    "    :return: julei_node\n",
    "    '''\n",
    "    temp_point = []\n",
    "    for i in range(0, len(node1.core[0])):\n",
    "        temp_point.append((node1.core[0][i] + node2.core[0][i]) / 2.0)\n",
    "    ans_core_node = julei_node(temp_point)\n",
    "    ans_core_node.left_node = node1.core_node\n",
    "    ans_core_node.right_node = node2.core_node\n",
    "    return ans_core_node"
   ]
  },
  {
   "cell_type": "markdown",
   "metadata": {},
   "source": [
    "### 2.4 定义层次聚类算法"
   ]
  },
  {
   "cell_type": "markdown",
   "metadata": {},
   "source": [
    "#### 2.4.1 初始化节点池，假设每个样本点为一个簇类"
   ]
  },
  {
   "cell_type": "code",
   "execution_count": 26,
   "metadata": {},
   "outputs": [],
   "source": [
    "node_pool = []\n",
    "# for i in range(0, len(df2)):\n",
    "# 由于层次聚类方法复杂度非常高，本数据集预处理后仍然有7000+个样本，所以为了演示下述代码效果，取前10条进行测试，实际如果时间允许，请您注释掉下面一行代码，并打开上面一行代码的注释\n",
    "for i in range(0, 10):\n",
    "    temp_node = julei_node(np.array(df2.iloc[i,:].values).tolist())\n",
    "    temp_node.core_node = i\n",
    "    node_pool.append(temp_node)"
   ]
  },
  {
   "cell_type": "markdown",
   "metadata": {},
   "source": [
    "#### 2.4.2 定义相似矩阵计算函数"
   ]
  },
  {
   "cell_type": "code",
   "execution_count": 27,
   "outputs": [],
   "source": [
    "def similar_function(np):\n",
    "    '''\n",
    "    用于对节点池中未参与过计算的节点进行计算，并形成新的节点\n",
    "    :param np: node_pool\n",
    "    :return: True表明计算已结束\n",
    "    '''\n",
    "    doing = True\n",
    "    xu = 1\n",
    "    temp_node_pool = []\n",
    "    while doing == True:\n",
    "        temp_node_pool.clear()\n",
    "        # 假设每个样本点为一个簇类 / 找到未计算的类簇核心\n",
    "        for i in range(0, len(node_pool)):\n",
    "            if(node_pool[i].is_computed == False):\n",
    "                temp_node_pool.append(node_pool[i].core_node)\n",
    "                # print(\">获得待分类计算节点 %d\" % (node_pool[i].core_node))\n",
    "        print(temp_node_pool)\n",
    "        if(len(temp_node_pool) > 1):\n",
    "            # 计算相似矩阵\n",
    "            # similar_matrix = np.zeros((len(temp_node_pool), len(temp_node_pool))),只是一种数据结构，没有必要存下来\n",
    "            temp_min = sys.float_info.max\n",
    "            temp_min_j = 0\n",
    "            temp_min_k = 1\n",
    "            for j in range(0, len(temp_node_pool)):\n",
    "                # similar_matrix[j, j] = sys.float_info.max\n",
    "                for k in range(j + 1, len(temp_node_pool)):\n",
    "                    temp_dis = dis_between_two_point(node_pool[temp_node_pool[j]].core, node_pool[temp_node_pool[k]].core)\n",
    "                    # similar_matrix[j, k] = temp_dis\n",
    "                    # similar_matrix[k, j] = similar_matrix[j, k]\n",
    "                    if temp_dis < temp_min:\n",
    "                        temp_min = temp_dis\n",
    "                        temp_min_j = temp_node_pool[j]\n",
    "                        temp_min_k = temp_node_pool[k]\n",
    "                        # print(\"%d+%d-%f\" % (j,k,temp_min))\n",
    "                # print(\">>当前计算节点为 %d 和其他\" % (node_pool[temp_node_pool[j]].core_node))\n",
    "            new_node = core_node(node_pool[temp_min_j], node_pool[temp_min_k])\n",
    "            node_pool[temp_min_j].is_computed = True\n",
    "            node_pool[temp_min_k].is_computed = True\n",
    "            new_node.core_node = len(node_pool)\n",
    "            node_pool.append(new_node)\n",
    "            print(\">>>产生新类簇 %d，计算节点为 %d 和 %d\" % (new_node.core_node, new_node.left_node, new_node.right_node))\n",
    "        else:\n",
    "            doing = False\n",
    "        # print(\"当前为第 %d 次迭代计算，待计算节点数为 %d\" % (xu, len(temp_node_pool)))\n",
    "        xu += 1"
   ],
   "metadata": {
    "collapsed": false
   }
  },
  {
   "cell_type": "code",
   "execution_count": 28,
   "metadata": {},
   "outputs": [
    {
     "name": "stdout",
     "output_type": "stream",
     "text": [
      "[0, 1, 2, 3, 4, 5, 6, 7, 8, 9]\n",
      ">>>产生新类簇 10，计算节点为 0 和 1\n",
      "[2, 3, 4, 5, 6, 7, 8, 9, 10]\n",
      ">>>产生新类簇 11，计算节点为 2 和 8\n",
      "[3, 4, 5, 6, 7, 9, 10, 11]\n",
      ">>>产生新类簇 12，计算节点为 5 和 11\n",
      "[3, 4, 6, 7, 9, 10, 12]\n",
      ">>>产生新类簇 13，计算节点为 4 和 9\n",
      "[3, 6, 7, 10, 12, 13]\n",
      ">>>产生新类簇 14，计算节点为 3 和 7\n",
      "[6, 10, 12, 13, 14]\n",
      ">>>产生新类簇 15，计算节点为 13 和 14\n",
      "[6, 10, 12, 15]\n",
      ">>>产生新类簇 16，计算节点为 10 和 12\n",
      "[6, 15, 16]\n",
      ">>>产生新类簇 17，计算节点为 6 和 16\n",
      "[15, 17]\n",
      ">>>产生新类簇 18，计算节点为 15 和 17\n",
      "[18]\n"
     ]
    }
   ],
   "source": [
    "similar_function(node_pool)"
   ]
  },
  {
   "cell_type": "code",
   "execution_count": 29,
   "metadata": {},
   "outputs": [],
   "source": [
    "def classify(node_pool, point, k):\n",
    "    '''\n",
    "    利用上述训练好的聚类树进行新样本的分类\n",
    "    :param np: node_pool\n",
    "    :param point: new point\n",
    "    :param k: int,表明划分深度/种类数，如k=4表明整体有4类\n",
    "    :return: 与哪一个样本最相似，当前返回聚类树中的分类路径\n",
    "    '''\n",
    "    ans_list = []\n",
    "    temp_node = node_pool[len(node_pool) - 1]\n",
    "    ans_list.append(temp_node.core_node)\n",
    "    for i in range(0, k - 1):\n",
    "        dis_left = dis_between_two_point(point, node_pool[temp_node.left_node].core)\n",
    "        dis_right = dis_between_two_point(point, node_pool[temp_node.right_node].core)\n",
    "        if dis_left < dis_right:\n",
    "            temp_node = node_pool[temp_node.left_node]\n",
    "        else:\n",
    "            temp_node = node_pool[temp_node.right_node]\n",
    "        ans_list.append(temp_node.core_node)\n",
    "    return ans_list"
   ]
  },
  {
   "cell_type": "code",
   "execution_count": 30,
   "metadata": {},
   "outputs": [],
   "source": [
    "test_point = np.array(df2.iloc[0,]).tolist()\n",
    "test = (test_point, )"
   ]
  },
  {
   "cell_type": "code",
   "execution_count": 31,
   "metadata": {},
   "outputs": [
    {
     "name": "stdout",
     "output_type": "stream",
     "text": [
      "test_point 的 1 级分类为 0.47500000000000003 0.8125 0.625 0.0 0.0982142857142857 0.046296296296296294 0.16796875 0.4447115384615385 0.0 0.011607142857142856 0.3871660305343511 0.34895833333333337 0.193359375 0.0 0.005952380952380952 0.0 0.3896333833833834 0.4157107107107107 0.4034284284284284 0.4708333333333333 0.0 0.0 0.09375 0.16666666666666666 0.0 0.0 0.010416666666666666 0.0 0.03125 0.041666666666666664 0.0 0.0 0.020833333333333332 0.0 0.0 0.0 0.0 0.5 0.0 0.0 0.0 0.0 0.0 0.5 1.0 \n",
      "\n",
      "test_point 的 2 级分类为 0.55 0.875 0.6111111111111112 0.0 0.08928571428571427 0.046296296296296294 0.19010416666666669 0.5240384615384616 0.0 0.01607142857142857 0.43463740458015265 0.11458333333333333 0.19296875 0.0 0.011904761904761904 0.0 0.3761886886886887 0.2751151151151151 0.23128128128128128 0.44166666666666665 0.0 0.0 0.1875 0.3333333333333333 0.0 0.0 0.020833333333333332 0.0 0.0625 0.08333333333333333 0.0 0.0 0.041666666666666664 0.0 0.0 0.0 0.0 0.6666666666666666 0.0 0.0 0.0 0.0 0.0 1.0 1.0 \n",
      "\n",
      "test_point 的 3 级分类为 0.5 0.75 0.7777777777777778 0.0 0.17857142857142855 0.018518518518518517 0.13020833333333334 0.5865384615384616 0.0 0.0035714285714285713 0.41889312977099236 0.22916666666666666 0.2109375 0.0 0.0 0.0 0.32394894894894893 0.29954954954954954 0.21171171171171171 0.4166666666666667 0.0 0.0 0.041666666666666664 0.0 0.0 0.0 0.041666666666666664 0.0 0.125 0.16666666666666666 0.0 0.0 0.08333333333333333 0.0 0.0 0.0 0.0 0.3333333333333333 0.0 0.0 0.0 0.0 0.0 1.0 1.0 \n",
      "\n",
      "test_point 的 4 级分类为 0.6 1.0 0.9444444444444444 0.0 0.21428571428571427 0.037037037037037035 0.125 0.8846153846153846 0.0 0.007142857142857143 0.3778625954198473 0.41666666666666663 0.275 0.0 0.0 0.0 0.4164164164164164 0.3128128128128128 0.2622622622622623 0.4666666666666667 0.0 0.0 0.0 0.0 0.0 0.0 0.0 0.0 0.16666666666666666 0.0 0.0 0.0 0.16666666666666666 0.0 0.0 0.0 0.0 0.3333333333333333 0.0 0.0 0.0 0.0 0.0 1.0 1.0 \n",
      "\n"
     ]
    }
   ],
   "source": [
    "explain_list = classify(node_pool, test, 4)\n",
    "for i in range(0, len(explain_list)):\n",
    "    temp_str = \" \".join(str(j) for j in node_pool[explain_list[i]].core[0])\n",
    "    print(\"test_point 的 %d 级分类为 %s \\n\" % (i + 1, temp_str))"
   ]
  },
  {
   "cell_type": "markdown",
   "metadata": {},
   "source": [
    "### 2.5 效果评估"
   ]
  },
  {
   "cell_type": "markdown",
   "metadata": {},
   "source": [
    "#### 2.5.1 CPCC系数计算"
   ]
  },
  {
   "cell_type": "code",
   "execution_count": 32,
   "metadata": {},
   "outputs": [],
   "source": [
    "# 这里只实现CPCC，其他评估函数均可直接调用sklearn包实现\n",
    "def CPCC(test_point, ans_point):\n",
    "    '''\n",
    "    共性分类相关系数，用于判别层次聚类的聚类结果是否和输入强相关，取值越接近1越好\n",
    "    :param test_point: 待分类样本\n",
    "    :param ans_point: 待分类样本在聚类树中最可能存在的位置/最相似样本\n",
    "    :return: 相关系数\n",
    "    '''\n",
    "    ans = 0.0\n",
    "    fenmu1 = 0.0\n",
    "    for i in range(0,len(test_point[0])):\n",
    "        fenmu1 += pow(test_point[0][i], 2)\n",
    "    fenmu1 = mt.sqrt(fenmu1)\n",
    "    fenmu2 = 0.0\n",
    "    for i in range(0,len(ans_point[0])):\n",
    "        fenmu2 += pow(ans_point[0][i], 2)\n",
    "    fenmu2 = mt.sqrt(fenmu2)\n",
    "    fenzi = 0.0\n",
    "    for i in range(0,len(ans_point[0])):\n",
    "        fenzi += test_point[0][i] * ans_point[0][i]\n",
    "    ans = fenzi / (fenmu1 * fenmu2)\n",
    "    return ans"
   ]
  },
  {
   "cell_type": "code",
   "execution_count": 33,
   "metadata": {},
   "outputs": [
    {
     "data": {
      "text/plain": "0.9873232630653909"
     },
     "execution_count": 33,
     "metadata": {},
     "output_type": "execute_result"
    }
   ],
   "source": [
    "CPCC(test, node_pool[explain_list[len(explain_list) - 1]].core)"
   ]
  }
 ],
 "metadata": {
  "kernelspec": {
   "display_name": "Python 3 (ipykernel)",
   "language": "python",
   "name": "python3"
  },
  "language_info": {
   "codemirror_mode": {
    "name": "ipython",
    "version": 3
   },
   "file_extension": ".py",
   "mimetype": "text/x-python",
   "name": "python",
   "nbconvert_exporter": "python",
   "pygments_lexer": "ipython3",
   "version": "3.10.8"
  }
 },
 "nbformat": 4,
 "nbformat_minor": 1
}
