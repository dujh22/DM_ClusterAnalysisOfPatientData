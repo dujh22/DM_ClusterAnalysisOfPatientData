{
 "cells": [
  {
   "cell_type": "code",
   "execution_count": 55,
   "metadata": {},
   "outputs": [],
   "source": [
    "import numpy as np\n",
    "import os\n",
    "import matplotlib.pyplot as plt\n",
    "import pandas as pd\n",
    "from sklearn import preprocessing\n",
    "from collections import Counter\n",
    "import itertools\n",
    "from sklearn.metrics import adjusted_rand_score\n",
    "from sklearn.metrics import adjusted_mutual_info_score\n",
    "from sklearn.metrics import fowlkes_mallows_score\n",
    "from sklearn.metrics import silhouette_score\n",
    "from sklearn.metrics import calinski_harabasz_score"
   ]
  },
  {
   "cell_type": "code",
   "execution_count": 70,
   "metadata": {},
   "outputs": [],
   "source": [
    "#读取原始数据\n",
    "df = pd.read_csv('.\\dataset_diabetes\\proprecessing_data_readmitted.csv')\n",
    "readmitted = np.array(df.loc[:,df.columns.values[-1]])\n",
    "le = preprocessing.LabelEncoder()\n",
    "le = le.fit([\"NO\", \">30\", \"<30\"])      \n",
    "readmitted = le.transform(readmitted)   #获取readmitted结果\n",
    "\n",
    "#读取聚类结果\n",
    "SOM_cluster = np.load('./result/5_01_10_10_cluster_new.npy')\n",
    "SOM_w = np.load('./result/5_01_10_10_w_new.npy', allow_pickle= True).T\n",
    "\n",
    "M, N = 10, 10   #设定输出层拓扑形状"
   ]
  },
  {
   "cell_type": "code",
   "execution_count": 52,
   "metadata": {},
   "outputs": [],
   "source": [
    "#原始数据预处理\n",
    "df = pd.read_csv('.\\dataset_diabetes\\proprecessing_data.csv')\n",
    "#删除性别未知的数据\n",
    "dropID = []\n",
    "for value in df.index.values:\n",
    "    if df.loc[value,'gender'] == 'Unknown/Invalid':\n",
    "        dropID.append(value)\n",
    "df = df.drop(dropID)   \n",
    "# 离散值替换：转为darray类型\n",
    "data_set = df.to_numpy().T\n",
    "\n",
    "#Interval-based数据归一化\n",
    "idx = [6, 8, 9, 10, 11, 12, 13, 17]\n",
    "idx_mix = [14, 15, 16]\n",
    "scaler = preprocessing.MinMaxScaler()\n",
    "scaler = scaler.fit(data_set[idx].T) \n",
    "data_set[idx] = scaler.transform(data_set[idx].T).T\n",
    "\n",
    "#无效值替换\n",
    "for i in idx_mix:\n",
    "    subdata_set = np.array([str(j) for j in data_set[i]])\n",
    "    invalid_char = ['V','E','?']\n",
    "    idx_nan = np.array([])\n",
    "    for c in invalid_char:\n",
    "        char_count = np.char.count(subdata_set, c)\n",
    "        idx_nan = np.append(idx_nan, np.argwhere(char_count != 0))\n",
    "    idx_nan = np.unique(idx_nan).astype(int)\n",
    "    subdata_set[idx_nan] = -1\n",
    "    subdata_set = subdata_set.astype(float)\n",
    "    data_set[i] = scaler.fit_transform(subdata_set.reshape(-1,1)).reshape(1,-1).squeeze()\n",
    "\n",
    "data_set = data_set[np.array([6, 8, 9, 10, 11, 12, 13, 17, 14, 15, 16])]\n",
    "data_set = data_set.T"
   ]
  },
  {
   "cell_type": "code",
   "execution_count": null,
   "metadata": {},
   "outputs": [],
   "source": [
    "#融合距离计算函数\n",
    "T = np.array([False, False, False, False, False, False, True, False, True, True, True, True, True,\n",
    "        True, True, True, True, True, False, False, False, False, False, False, False, False, False, \n",
    "        False])\n",
    "idx_BN = np.argwhere(T == False).squeeze()\n",
    "idx_OI = np.argwhere(T == True).squeeze()\n",
    "\n",
    "def BNd(x1, x2):    #T:False\n",
    "    res = np.ones(x2.shape)\n",
    "    x1 = np.tile(x1, x2.shape[0]).reshape(-1,x2.shape[1])\n",
    "    res[x1 == x2] =0\n",
    "    return res\n",
    "    \n",
    "def OId(x1, x2):    #T:True\n",
    "    return np.nan_to_num(np.abs(x1 - x2), nan= 1)\n",
    "\n",
    "def edist(X1,X2):\n",
    "    X1_BN = X1[idx_BN].astype(str)\n",
    "    X2_BN = X2[idx_BN].astype(str)\n",
    "    X1_OI = X1[idx_OI].astype(float)\n",
    "    X2_OI = X2[idx_OI].astype(float)\n",
    "\n",
    "    # 计算该属性值是否有效\n",
    "    delta = np.ones(X2.shape)\n",
    "    idx = np.argwhere(X1_BN == '?').squeeze()\n",
    "    delta[idx_BN[idx]] = 0\n",
    "    idx = np.argwhere(X2_BN == '?').squeeze()\n",
    "    if len(idx.reshape(-1,1)) == 2:\n",
    "        delta[idx_BN[idx[0]]][idx[1]] = 0\n",
    "    else:\n",
    "        for i in idx:\n",
    "            delta[idx_BN[i[0]]][i[1]] = 0\n",
    "        '''idx = np.argwhere(np.isnan(X1_OI)).squeeze()\n",
    "        delta[self.idx_OI[idx]] = 0\n",
    "        idx = np.argwhere(np.isnan(X2_OI)).squeeze()\n",
    "        if len(idx.reshape(-1,1)) == 2:\n",
    "            delta[self.idx_OI[idx[0]]][idx[1]] = 0\n",
    "        else:\n",
    "            for i in idx:\n",
    "                delta[self.idx_OI[i[0]]][i[1]] = 0'''\n",
    "    dSum = np.sum(delta, axis=0)\n",
    "\n",
    "    # 计算不同属性间距离\n",
    "    mSum = np.zeros(X2.shape[1])\n",
    "    bnd = BNd(X1_BN, X2_BN.T)\n",
    "    mSum += np.diagonal(np.dot(bnd, delta[idx_BN]))\n",
    "    oid = OId(X1_OI, X2_OI.T)\n",
    "    mSum += np.diagonal(np.dot(oid, delta[idx_OI]))\n",
    "\n",
    "    return mSum * 10 / dSum"
   ]
  },
  {
   "cell_type": "code",
   "execution_count": null,
   "metadata": {},
   "outputs": [],
   "source": [
    "#欧式距离计算函数\n",
    "def edist(X1,X2):\n",
    "    return np.sqrt(np.sum(np.square(X1 - X2), axis= 1))"
   ]
  },
  {
   "cell_type": "code",
   "execution_count": 3,
   "metadata": {},
   "outputs": [
    {
     "data": {
      "text/plain": [
       "Text(0.5, 1.0, 'Number of nodes connected to the output layer')"
      ]
     },
     "execution_count": 3,
     "metadata": {},
     "output_type": "execute_result"
    },
    {
     "data": {
      "image/png": "[encoded data removed]",
      "text/plain": [
       "<Figure size 640x480 with 2 Axes>"
      ]
     },
     "metadata": {},
     "output_type": "display_data"
    }
   ],
   "source": [
    "#绘制输出层连接样本数量热力图\n",
    "clu = np.zeros((M*N, 3))\n",
    "for i in range(M*N):\n",
    "    idx = np.argwhere(SOM_cluster == i).squeeze()\n",
    "    clu[i][0] = np.sum(readmitted[idx] == 0)\n",
    "    clu[i][1] = np.sum(readmitted[idx] == 1)\n",
    "    clu[i][2] = np.sum(readmitted[idx] == 2)\n",
    "total_cnt = np.sum(clu, axis= 1)\n",
    "\n",
    "plt.imshow(total_cnt.reshape(M, -1), cmap=plt.get_cmap('Greens'))\n",
    "plt.colorbar() \n",
    "plt.tight_layout()\n",
    "plt.title('Number of nodes connected to the output layer')"
   ]
  },
  {
   "cell_type": "code",
   "execution_count": null,
   "metadata": {},
   "outputs": [],
   "source": [
    "# 绘制竞争层节点距离热力图\n",
    "D = np.zeros((M,N))\n",
    "for i in range(M):\n",
    "    for j in range(N):\n",
    "        n = i * M + j\n",
    "        nebor_n = []\n",
    "        if i > 0:\n",
    "            nebor_n.append((i - 1) * M + j)\n",
    "            if j > 0:\n",
    "                nebor_n.append((i - 1) * M + j - 1)\n",
    "            elif j < N-1:\n",
    "                nebor_n.append((i - 1) * M + j + 1)\n",
    "        elif i < M-1:\n",
    "            nebor_n.append((i + 1) * M + j)\n",
    "            if j > 0:\n",
    "                nebor_n.append((i + 1) * M + j - 1)\n",
    "            elif j < N-1:\n",
    "                nebor_n.append((i + 1) * M + j + 1)\n",
    "        if j > 0:\n",
    "            nebor_n.append(i * M + j - 1)\n",
    "        elif j < N-1:\n",
    "            nebor_n.append(i * M + j + 1)\n",
    "\n",
    "        nebor_n = np.array(nebor_n)\n",
    "        data = SOM_w.T[n]\n",
    "        nebor = SOM_w.T[nebor_n]\n",
    "        D[i][j] = np.average(edist(data, nebor))\n",
    "\n",
    "D = D.reshape(M,-1)\n",
    "plt.figure(figsize=(6, 6),dpi=100)\n",
    "plt.imshow(D, cmap=plt.cm.Blues)\n",
    "plt.title('Distance of output layer nodes')    # 图像标题\n",
    "plt.colorbar() \n",
    "plt.xticks(np.arange(N), np.arange(N), rotation=90)    # 将标签印在x轴坐标上\n",
    "plt.yticks(np.arange(M), np.arange(M))    # 将标签印在y轴坐标上\n",
    "thresh = D.max() / 2.\n",
    "for i, j in itertools.product(range(D.shape[0]), range(D.shape[1])):\n",
    "        num = '{:.2f}'.format(D[i, j])\n",
    "        plt.text(j, i, num,\n",
    "                 verticalalignment='center',\n",
    "                 horizontalalignment=\"center\",\n",
    "                 color=\"white\" if float(num) > thresh else \"black\")\n"
   ]
  },
  {
   "cell_type": "code",
   "execution_count": null,
   "metadata": {},
   "outputs": [],
   "source": [
    "#绘制输出层连接样本分布饼图\n",
    "#选择要绘制属性\n",
    "feature = np.array(df.iloc[:,25])\n",
    "\n",
    "# 有缺失值得数值型属性 idx_mix = [14, 15, 16]\n",
    "# 数值型属性 idx = [6, 8, 9, 10, 11, 12, 13, 17]\n",
    "# 替换数值型属性中得缺失值\n",
    "'''subdata_set = np.array([str(j) for j in feature])\n",
    "invalid_char = ['V','E','?']\n",
    "idx_nan = np.array([])\n",
    "for c in invalid_char:\n",
    "    char_count = np.char.count(subdata_set, c)\n",
    "    idx_nan = np.argwhere(char_count != 0).squeeze()\n",
    "    subdata_set[idx_nan] = '0'\n",
    "feature = subdata_set.astype(float)'''\n",
    "\n",
    "#离散型属性统计\n",
    "feature_type = np.unique(feature)\n",
    "clu2 = np.zeros((M*N, len(feature_type)))\n",
    "for i in range(M*N):\n",
    "    idx = np.argwhere(SOM_cluster == i).squeeze()\n",
    "    for j in range(len(feature_type)):\n",
    "       clu2[i][j] = np.sum(feature[idx] == feature_type[j])\n",
    "\n",
    "#数值型属性统计\n",
    "'''feature_step = (np.max(feature) - np.min(feature) + 1) / 10\n",
    "mi = np.min(feature)\n",
    "clu2 = np.zeros(((M*N), 10))\n",
    "for i in range(M*N):\n",
    "    idx = np.argwhere(SOM_cluster == i).squeeze()\n",
    "    for j in range(10):\n",
    "        clu2[i][j] = np.sum((feature[idx] > (mi + j * feature_step)) * (feature[idx] < (mi + (j + 1) * feature_step)))'''\n",
    "\n",
    "#结果绘制\n",
    "fig,axj=plt.subplots(nrows=M,ncols=N,figsize=(8, 8),dpi=100)\n",
    "axes = axj.flatten()\n",
    "for ax in range(M*N):\n",
    "    axes[ax].pie(x=clu2[ax])\n",
    "    plt.subplots_adjust()  # 调整子图间距\n",
    "plt.show()"
   ]
  },
  {
   "cell_type": "code",
   "execution_count": 44,
   "metadata": {},
   "outputs": [
    {
     "name": "stdout",
     "output_type": "stream",
     "text": [
      "AMI: 0.000190\n",
      "ARI: 0.000381\n",
      "FMI: 0.678209\n"
     ]
    }
   ],
   "source": [
    "#计算聚类结果有监督指标\n",
    "feature = np.array(df.iloc[:,28])\n",
    "\n",
    "# 有缺失值得数值型属性 idx_mix = [14, 15, 16]\n",
    "# 数值型属性 idx = [6, 8, 9, 10, 11, 12, 13, 17]\n",
    "# 替换数值型属性中得缺失值\n",
    "'''subdata_set = np.array([str(j) for j in feature])\n",
    "invalid_char = ['V','E','?']\n",
    "idx_nan = np.array([])\n",
    "for c in invalid_char:\n",
    "    char_count = np.char.count(subdata_set, c)\n",
    "    idx_nan = np.argwhere(char_count != 0).squeeze()\n",
    "    subdata_set[idx_nan] = '0'\n",
    "feature = subdata_set.astype(float)'''\n",
    "\n",
    "#离散型属性统计\n",
    "feature_type = np.unique(feature)\n",
    "clu2 = np.zeros((M*N, len(feature_type)))\n",
    "label = feature.copy()\n",
    "for i in range(M*N):\n",
    "    idx = np.argwhere(SOM_cluster == i).squeeze()\n",
    "    for j in range(len(feature_type)):\n",
    "       clu2[i][j] = np.sum(feature[idx] == feature_type[j])\n",
    "    clu_label = np.argmax(clu2[i])\n",
    "    label[idx] = feature_type[clu_label]\n",
    "\n",
    "#数值型属性统计\n",
    "'''feature_step = (np.max(feature) - np.min(feature) + 1) / 10\n",
    "mi = np.min(feature)\n",
    "clu2 = np.zeros(((M*N), 10))\n",
    "feature_label = np.zeros(feature.shape)\n",
    "label = np.zeros(feature.shape)\n",
    "for i in range(M*N):\n",
    "    idx = np.argwhere(SOM_cluster == i).squeeze()\n",
    "    for j in range(10):\n",
    "        idx_label = np.argwhere((feature[idx] > (mi + j * feature_step)) * (feature[idx] < (mi + (j + 1) * feature_step)) == True).squeeze()\n",
    "        clu2[i][j] = np.sum((feature[idx] > (mi + j * feature_step)) * (feature[idx] < (mi + (j + 1) * feature_step)))\n",
    "        feature_label[idx_label] = j\n",
    "    label[idx] = np.argmax(clu2[i])'''\n",
    "\n",
    "#计算指标\n",
    "ami=adjusted_mutual_info_score(label, feature) \n",
    "print('AMI: %f'%(ami))\n",
    "ari=adjusted_rand_score(label, feature)  \n",
    "print('ARI: %f'%(ari))\n",
    "fmi=fowlkes_mallows_score(label, feature)  \n",
    "print('FMI: %f'%(fmi))"
   ]
  },
  {
   "cell_type": "code",
   "execution_count": 67,
   "metadata": {},
   "outputs": [
    {
     "name": "stdout",
     "output_type": "stream",
     "text": [
      "Silhouette score: -0.164527\n",
      "Calinski harabasz score: 361.132379\n"
     ]
    }
   ],
   "source": [
    "#计算聚类结果无监督指标\n",
    "sc=silhouette_score(data_set,SOM_cluster)\n",
    "print('Silhouette score: %f'%(sc))\n",
    "cks=calinski_harabasz_score(data_set,SOM_cluster)\n",
    "print('Calinski harabasz score: %f'%(cks))"
   ]
  }
 ],
 "metadata": {
  "kernelspec": {
   "display_name": "jupyter",
   "language": "python",
   "name": "python3"
  },
  "language_info": {
   "codemirror_mode": {
    "name": "ipython",
    "version": 3
   },
   "file_extension": ".py",
   "mimetype": "text/x-python",
   "name": "python",
   "nbconvert_exporter": "python",
   "pygments_lexer": "ipython3",
   "version": "3.8.15"
  },
  "orig_nbformat": 4,
  "vscode": {
   "interpreter": {
    "hash": "94186ee46dd20d9135eb93318a31c12944db0bab97754bb10895fc1a10cecd0e"
   }
  }
 },
 "nbformat": 4,
 "nbformat_minor": 2
}
